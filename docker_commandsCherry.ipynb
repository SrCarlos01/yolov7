{
  "cells": [
    {
      "cell_type": "markdown",
      "metadata": {
        "id": "view-in-github",
        "colab_type": "text"
      },
      "source": [
        "<a href=\"https://colab.research.google.com/github/SrCarlos01/yolov7/blob/main/docker_commandsCherry.ipynb\" target=\"_parent\"><img src=\"https://colab.research.google.com/assets/colab-badge.svg\" alt=\"Open In Colab\"/></a>"
      ]
    },
    {
      "cell_type": "markdown",
      "id": "b561046f-8551-4d45-89aa-742b4cc5713b",
      "metadata": {
        "jp-MarkdownHeadingCollapsed": true,
        "tags": [],
        "id": "b561046f-8551-4d45-89aa-742b4cc5713b"
      },
      "source": [
        "# Evaluando nuestro ambiente de docker\n",
        "\n",
        "Mostrar la version de docker\n",
        "```\n",
        "docker --version\n",
        "```\n",
        "\n",
        "Ver que imagenes tenemos disponibles\n",
        "```\n",
        "docker images\n",
        "```\n",
        "\n",
        "Traer imagenes especificas de dockerhub:\n",
        "```\n",
        "docker image pull [NAME Image]\n",
        "docker image pull debian\n",
        "\n",
        "```\n"
      ]
    },
    {
      "cell_type": "markdown",
      "id": "b595eabc-df42-4a0a-9fc9-be5c855814d0",
      "metadata": {
        "id": "b595eabc-df42-4a0a-9fc9-be5c855814d0"
      },
      "source": [
        "# Implementacion construccion de una imagen\n",
        "Crear una imagen en base a un Dockerfile\n",
        "```\n",
        "docker build [PARAMETROS OPCIONALES] .\n",
        "docker build --tag example:1.0 .\n",
        "````\n",
        "Correr un contenedor, como una instancia de la imagen:\n",
        "```\n",
        "docker run [PARAMETROS OPCIONALES]\n",
        "docker run -it --shm-size=64g example:1.0\n",
        "\n",
        "```\n",
        "\n",
        "Ingresar a un container corriendo:\n",
        "```\n",
        "docker attach hardcore_wescoff\n",
        "```\n",
        "\n",
        "Reiniciar contenedor apagado:\n",
        "```\n",
        "docker start -i hardcore_wescoff\n",
        "```\n",
        "\n",
        "Para salir de un contenedor sin apagarlo:\n",
        "ctrl + p + s\n",
        "\n"
      ]
    },
    {
      "cell_type": "markdown",
      "id": "d8ab2335-1e8c-4de3-b3fd-61fb6f474b59",
      "metadata": {
        "id": "d8ab2335-1e8c-4de3-b3fd-61fb6f474b59"
      },
      "source": [
        "# Corriendo contenedores\n",
        "\n",
        "Evaluar los contenedores disponibles\n",
        "```\n",
        "docker ps\n",
        "docker ps -a\n",
        "```\n",
        "\n",
        "Remover contenedores\n",
        "```\n",
        "docker rm\n",
        "```\n",
        "\n",
        "Remover imagenes disponibles\n",
        "```\n",
        "docker rmi\n",
        "```"
      ]
    },
    {
      "cell_type": "markdown",
      "source": [
        "# Volumenes\n",
        "\n",
        "docker run --runtime=nvidia -it -e NVIDIA_VISIBLE_DEVICES=0 --shm-size=64g -v \"C:\\Users\\chan0\\Desktop\\2024 2°Semestre\\Proyecto de Datos 2\\cherryCO\":/workspace/dataset cherry:1.0\n",
        "\n",
        "\n",
        "--runtime: permitir acceso a la tarjeta gráfica\n",
        "--it -e: especifica el controlador que se le asiganra de la TG\n",
        "--shm-size=64g: tamaño de la GPU\n",
        "Nombre de la imagen se encontrara en la parte final en este caso cherrry:1.0\n",
        "rm -r yolov7: eliminar carpeta"
      ],
      "metadata": {
        "id": "3ACY8YAgov6S"
      },
      "id": "3ACY8YAgov6S"
    },
    {
      "cell_type": "code",
      "source": [],
      "metadata": {
        "id": "6IiKED43ox3d"
      },
      "id": "6IiKED43ox3d",
      "execution_count": null,
      "outputs": []
    }
  ],
  "metadata": {
    "kernelspec": {
      "display_name": "yolo",
      "language": "python",
      "name": "yolo"
    },
    "language_info": {
      "codemirror_mode": {
        "name": "ipython",
        "version": 3
      },
      "file_extension": ".py",
      "mimetype": "text/x-python",
      "name": "python",
      "nbconvert_exporter": "python",
      "pygments_lexer": "ipython3",
      "version": "3.7.11"
    },
    "colab": {
      "provenance": [],
      "include_colab_link": true
    }
  },
  "nbformat": 4,
  "nbformat_minor": 5
}