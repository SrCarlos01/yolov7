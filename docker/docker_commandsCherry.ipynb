{
 "cells": [
  {
   "cell_type": "markdown",
   "id": "e250aa8c",
   "metadata": {},
   "source": [
    "# Evaluating our docker environment\n",
    "\n",
    "First, show the version of Docker that we are having\n",
    "```\n",
    "docker --version\n",
    "```\n",
    "\n",
    "then, let's check the available images\n",
    "```\n",
    "docker images\n",
    "```\n"
   ]
  },
  {
   "cell_type": "markdown",
   "id": "f9204ec3",
   "metadata": {},
   "source": [
    "# Implementation of construction of an image\n",
    "### Building the Docker Image\n",
    "To construct a Docker image, first navigate to the directory containing the Dockerfile. Then, use the following command to build the image. In this example, our project image will be named cherrydocker.\n",
    "    \n",
    "```    \n",
    "docker build [PARAMETROS OPCIONALES] .\n",
    "docker build --tag cherrydocker:1.0 .\n",
    "\n",
    "```\n",
    "mkdir weights\n",
    "docker run\n",
    "nano weights/random.txt\n",
    "\n",
    "### Running the Docker Container\n",
    "To run an instance of the image (a container) with GPU acceleration (via NVIDIA), shared memory configuration, and access to a specific dataset directory, use the following command:\n",
    "\n",
    "```    \n",
    "docker run [PARAMETROS OPCIONALES]\n",
    "docker run --runtime=nvidia -it -e NVIDIA_VISIBLE_DEVICES=0 --shm-size=64g -v \"/home/le.thuy/weights:/yolov7/weights\" -v \"home/le.thuy/cherryCO/:/dataset/cherryCO\" cherrydocker:1.0\n",
    "\n",
    "```\n",
    "```\n",
    "docker run --runtime=nvidia -it -e NVIDIA_VISIBLE_DEVICES=0 --shm-size=64g -v \"/home/le.thuy/cherryCO:/workspace/dataset\" cherrydocker:1.0\n",
    "```\n",
    "\n",
    "```\n",
    "docker run --runtime=nvidia -it -e NVIDIA_VISIBLE_DEVICES=0 --shm-size=64g -v \"C:\\Users\\LtThu\\OneDrive\\UOH\\Semestre 8\\Proyecto de Datos 2\\CherryCO:/workspace/dataset/cherryCO\" cherrydocker:1.0\n",
    "```\n",
    "which is,\n",
    "--runtime: Specifies that the container will use the NVIDIA runtime to access GPU resources\n",
    "\n",
    "-it: Runs the container in interactive mode (-i for interactive and -t for terminal)\n",
    "\n",
    "-e: Sets an environment variable NVIDIA_VISIBLE_DEVICES inside the container\n",
    "\n",
    "--shm-size=64g: GPU size - Allocates 64 GB of shared memory for the container\n",
    "\n",
    "-v \"C:\\Users\\LtThu\\OneDrive\\UOH\\Semestre 8\\Proyecto de Datos 2\\CherryCO:/workspace/dataset\": Mounts a local directory (C:\\Users\\LtThu\\OneDrive\\UOH\\Semestre 8\\Proyecto de Datos 2\\CherryCO) into the container's file system at the path /workspace/dataset.\n",
    "\n",
    "\n",
    "Image Name: The image name appears at the end of the command, in this case, cherrydocker:1.0.\n",
    "\n",
    "### Exiting and Managing Containers\n",
    "To exit the container:\n",
    "```    \n",
    "exit\n",
    "\n",
    "```\n",
    "\n",
    "But if we want to back to run the container that we have just exited, then run: \n",
    "(Note that: we must check in the Docker application that container for example named \"hardcore_wescoff\"  must be in the running state)\n",
    "\n",
    "```    \n",
    "docker attach confident_keller\n",
    "\n",
    "```\n",
    "\n",
    "To restart a container that has been stopped:\n",
    "```\n",
    "docker start -i confident_keller\n",
    "```\n",
    "\n",
    "Also, to exit a container without stopping it - Use the keyboard shortcut:\n",
    "ctrl + p + s\n",
    "\n",
    "\n",
    "\n",
    "\n",
    "\n"
   ]
  },
  {
   "cell_type": "markdown",
   "id": "c0251fda",
   "metadata": {},
   "source": [
    "# Running containers\n",
    "\n",
    "Check available containers\n",
    "```\n",
    "docker ps\n",
    "docker ps -a\n",
    "```\n",
    "\n",
    "Remove containers\n",
    "```\n",
    "docker rm\n",
    "```\n",
    "\n",
    "Remove available images\n",
    "```\n",
    "docker rmi"
   ]
  },
  {
   "cell_type": "markdown",
   "id": "92c42aca",
   "metadata": {},
   "source": [
    "# Training YOLOv7 Inside the Container\n",
    "Once the container is successfully running with the necessary dataset and modifications to YOLOv7, follow these steps inside the container environment:\n",
    "\n",
    "Navigate to the YOLOv7 folder:\n",
    "``` \n",
    "cd ..\n",
    "cd yolov7\n",
    "\n",
    "```\n",
    "\n",
    "Then, install the required dependencies:\n",
    "\n",
    "``` \n",
    "pip install -r requirements.txt \n",
    "pip install torch torchvision torchaudio --index-url https://download.pytorch.org/whl/cu124 \n",
    "\n",
    "\n",
    "```"
   ]
  },
  {
   "cell_type": "markdown",
   "id": "ec7eecb5",
   "metadata": {},
   "source": [
    "If the training is incomplete because the dataset is not properly mapped, follow these steps to resolve the issue: \n",
    "\n",
    "Navigate to the YOLOv7 folder and open the dataset configuration file using the nano command:\n",
    "\n",
    "``` \n",
    "cd yolov7/data\n",
    "nano ripeness.yaml\n",
    "```\n",
    "\n",
    "Inside the ``` ripeness.yaml  ```, adjust the paths to point to the dataset directory in our local machine. The corrected paths should look like this:\n",
    "\n",
    "``` \n",
    "train: ../workspace/dataset/cherryCO/train/images\n",
    "val: ../workspace/dataset/cherryCO/val/images\n",
    "test: ../workspace/dataset/cherryCO/val/images\n",
    "\n",
    "```\n",
    "After editing, save the file by pressing Ctrl + O, then press Enter.\n",
    "Exit nano by pressing Ctrl + X.\n",
    "\n",
    "Finally run the training command: \n",
    "``` \n",
    "python train_aux.py --workers 8 --device 0 --batch-size 1 --data data/ripeness.yaml --img 640 640 --cfg cfg/training/yolov7-e6_ripeness.yaml --weights None --name yolov7-e6 --hyp data/hyp.scratch.custom.yaml --epochs 2\n",
    "```\n",
    "Note that while traning this trainninf command and it may show that \"python does not exit\" then it means Python 3 is installed but not accessible as python, so we need to create a symbolic link:\n",
    "\n",
    "``` \n",
    "ln -s /usr/bin/python3 /usr/bin/python\n",
    "\n",
    "```\n",
    "\n",
    "\n"
   ]
  },
  {
   "cell_type": "markdown",
   "id": "d447b9ed",
   "metadata": {},
   "source": [
    "Then train:\n",
    "\n",
    "``` \n",
    "python train_aux.py --workers 8 --device 0 --batch-size 1 --data data/ripeness.yaml --img 640 640 --cfg cfg/training/yolov7-e6_ripeness.yaml --weights None --name yolov7-e6 --hyp data/hyp.scratch.custom.yaml --epochs 2\n",
    "\n",
    "```\n",
    "\n",
    "\n",
    "Important: Each time we train the YOLOv7 model, ensure that cache files do not interfere with the training process. Follow these steps:\n",
    "\n",
    "After preparing the dataset and before starting the training, check the ../CherryCO/dataset/val/ folder (or wherever your dataset is stored on your machine) for the following files:\n",
    "\n",
    "images.cache\n",
    "\n",
    "labels.cache\n",
    "\n",
    "If these files are present, delete them using the following command inside the container:\n",
    "```\n",
    "rm ../workspace/dataset/cherryCO/val/images.cache ../workspace/dataset/val/cherryCO/labels.cache\n",
    "```\n",
    "or go directly to your machine to check if these files are present then detelet it.\n",
    "\n",
    "\n"
   ]
  },
  {
   "cell_type": "markdown",
   "id": "b513dffe",
   "metadata": {},
   "source": [
    "ctrl+r: find command history"
   ]
  },
  {
   "cell_type": "markdown",
   "id": "81f4ddc0",
   "metadata": {},
   "source": [
    "Transfer the information of dataset from our machine to local machine\n",
    "```\n",
    "scp -r CherryCO  le.thuy@172.16.105.207 :/home/le.thuy/CherryCO.zip\n",
    "```\n"
   ]
  },
  {
   "cell_type": "markdown",
   "id": "e257d983",
   "metadata": {},
   "source": [
    "```\n",
    "ssh ...\n",
    "```\n"
   ]
  },
  {
   "cell_type": "markdown",
   "id": "21b51d3e",
   "metadata": {},
   "source": [
    "The cp command can be used to copy files.\n",
    "\n",
    "One specific file can be copied TO the container like:\n",
    "\n",
    "docker cp foo.txt container_id:/foo.txt"
   ]
  },
  {
   "cell_type": "code",
   "execution_count": null,
   "id": "ea94e012",
   "metadata": {
    "vscode": {
     "languageId": "plaintext"
    }
   },
   "outputs": [],
   "source": []
  }
 ],
 "metadata": {
  "colab": {
   "provenance": []
  },
  "kernelspec": {
   "display_name": "yolo",
   "language": "python",
   "name": "yolo"
  },
  "language_info": {
   "codemirror_mode": {
    "name": "ipython",
    "version": 3
   },
   "file_extension": ".py",
   "mimetype": "text/x-python",
   "name": "python",
   "nbconvert_exporter": "python",
   "pygments_lexer": "ipython3",
   "version": "3.7.11"
  }
 },
 "nbformat": 4,
 "nbformat_minor": 5
}
